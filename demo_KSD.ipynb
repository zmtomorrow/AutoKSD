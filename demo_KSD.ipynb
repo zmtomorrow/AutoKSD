{
 "cells": [
  {
   "cell_type": "code",
   "execution_count": 3,
   "metadata": {},
   "outputs": [],
   "source": [
    "import jax.numpy as jnp\n",
    "from jax import random,grad\n",
    "from jax.scipy.stats import norm\n",
    "from AutoKSD import KSD\n",
    "key = random.PRNGKey(0)"
   ]
  },
  {
   "cell_type": "code",
   "execution_count": 4,
   "metadata": {},
   "outputs": [
    {
     "name": "stdout",
     "output_type": "stream",
     "text": [
      "0.032192864\n",
      "CPU times: user 159 ms, sys: 3.03 ms, total: 162 ms\n",
      "Wall time: 161 ms\n",
      "0.0944503\n",
      "CPU times: user 42.8 ms, sys: 503 µs, total: 43.3 ms\n",
      "Wall time: 43.1 ms\n"
     ]
    }
   ],
   "source": [
    "## Define the kernel  function\n",
    "rbf=lambda x,y:jnp.exp(-1*jnp.sum((x-y)**2))\n",
    "\n",
    "## Define the score function of p\n",
    "p_score=grad(lambda x:norm.logpdf(x,loc=0., scale=1.).sum())\n",
    "\n",
    "## Initialize the KSD\n",
    "ksd=KSD(rbf,p_score)\n",
    "\n",
    "## Samples from q\n",
    "q_samples=random.normal(key,[100,2])\n",
    "\n",
    "## Compute statsitics\n",
    "%time  print(ksd.U_stats(q_samples))\n",
    "%time  print(ksd.V_stats(q_samples))\n"
   ]
  }
 ],
 "metadata": {
  "kernelspec": {
   "display_name": "Python 3",
   "language": "python",
   "name": "python3"
  },
  "language_info": {
   "codemirror_mode": {
    "name": "ipython",
    "version": 3
   },
   "file_extension": ".py",
   "mimetype": "text/x-python",
   "name": "python",
   "nbconvert_exporter": "python",
   "pygments_lexer": "ipython3",
   "version": "3.9.4"
  }
 },
 "nbformat": 4,
 "nbformat_minor": 4
}
